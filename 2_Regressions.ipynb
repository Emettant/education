{
 "cells": [
  {
   "cell_type": "code",
   "execution_count": 1,
   "metadata": {
    "collapsed": false
   },
   "outputs": [
    {
     "name": "stdout",
     "output_type": "stream",
     "text": [
      "                  Open        High         Low       Close      Volume  \\\n",
      "Date                                                                     \n",
      "2004-08-19   99.999999  104.059999   95.959998  100.339998  44659000.0   \n",
      "2004-08-20  101.010005  109.079998  100.500002  108.310002  22834300.0   \n",
      "2004-08-23  110.750003  113.479998  109.049999  109.399998  18256100.0   \n",
      "2004-08-24  111.239999  111.599998  103.570003  104.870002  15247300.0   \n",
      "2004-08-25  104.960000  108.000002  103.880003  106.000005   9188600.0   \n",
      "\n",
      "            Adjusted Close  \n",
      "Date                        \n",
      "2004-08-19       50.220219  \n",
      "2004-08-20       54.209210  \n",
      "2004-08-23       54.754754  \n",
      "2004-08-24       52.487488  \n",
      "2004-08-25       53.053055  \n"
     ]
    }
   ],
   "source": [
    "import pandas as pd\n",
    "import quandl\n",
    "\n",
    "df = quandl.get(\"YAHOO/GOOGL\")\n",
    "\n",
    "print(df.head())"
   ]
  },
  {
   "cell_type": "code",
   "execution_count": 7,
   "metadata": {
    "collapsed": false
   },
   "outputs": [],
   "source": [
    "df = quandl.get(\"WIKI/GOOGL\")\n",
    "df = df[['Adj. Open','Adj. High','Adj. Low','Adj. Close','Adj. Volume',]]"
   ]
  },
  {
   "cell_type": "code",
   "execution_count": 11,
   "metadata": {
    "collapsed": false
   },
   "outputs": [
    {
     "name": "stdout",
     "output_type": "stream",
     "text": [
      "              HL_PCT  PCT_change  Adj. Close  Adj. Open\n",
      "Date                                                   \n",
      "2004-08-19  3.712563    0.324968   50.322842  50.159839\n",
      "2004-08-20  0.710922    7.227007   54.322689  50.661387\n",
      "2004-08-23  3.729433   -1.227880   54.869377  55.551482\n",
      "2004-08-24  6.417469   -5.726357   52.597363  55.792225\n",
      "2004-08-25  1.886792    1.183658   53.164113  52.542193\n"
     ]
    },
    {
     "name": "stderr",
     "output_type": "stream",
     "text": [
      "/home/vit/.venv/py3/lib/python3.4/site-packages/ipykernel/__main__.py:3: SettingWithCopyWarning: \n",
      "A value is trying to be set on a copy of a slice from a DataFrame.\n",
      "Try using .loc[row_indexer,col_indexer] = value instead\n",
      "\n",
      "See the caveats in the documentation: http://pandas.pydata.org/pandas-docs/stable/indexing.html#indexing-view-versus-copy\n",
      "  app.launch_new_instance()\n",
      "/home/vit/.venv/py3/lib/python3.4/site-packages/ipykernel/__main__.py:4: SettingWithCopyWarning: \n",
      "A value is trying to be set on a copy of a slice from a DataFrame.\n",
      "Try using .loc[row_indexer,col_indexer] = value instead\n",
      "\n",
      "See the caveats in the documentation: http://pandas.pydata.org/pandas-docs/stable/indexing.html#indexing-view-versus-copy\n"
     ]
    }
   ],
   "source": [
    "df = quandl.get(\"WIKI/GOOGL\")\n",
    "dfPicked = df[['Adj. Open','Adj. High','Adj. Low','Adj. Close','Adj. Volume',]]\n",
    "dfPicked['HL_PCT'] = (dfPicked['Adj. High']-dfPicked['Adj. Close'])/dfPicked['Adj. Close']*100.0\n",
    "dfPicked['PCT_change'] = (dfPicked['Adj. Close']-dfPicked['Adj. Open'])/dfPicked['Adj. Open']*100.0\n",
    "df2 = dfPicked[['HL_PCT','PCT_change','Adj. Close', 'Adj. Volume']]\n",
    "\n",
    "print(df2.head())"
   ]
  },
  {
   "cell_type": "code",
   "execution_count": 12,
   "metadata": {
    "collapsed": false
   },
   "outputs": [
    {
     "name": "stdout",
     "output_type": "stream",
     "text": [
      "              HL_PCT  PCT_change  Adj. Close  Adj. Volume\n",
      "Date                                                     \n",
      "2004-08-19  3.712563    0.324968   50.322842   44659000.0\n",
      "2004-08-20  0.710922    7.227007   54.322689   22834300.0\n",
      "2004-08-23  3.729433   -1.227880   54.869377   18256100.0\n",
      "2004-08-24  6.417469   -5.726357   52.597363   15247300.0\n",
      "2004-08-25  1.886792    1.183658   53.164113    9188600.0\n"
     ]
    }
   ],
   "source": [
    "df2 = dfPicked[['HL_PCT','PCT_change','Adj. Close', 'Adj. Volume']]\n",
    "\n",
    "print(df2.head())"
   ]
  },
  {
   "cell_type": "code",
   "execution_count": null,
   "metadata": {
    "collapsed": true
   },
   "outputs": [],
   "source": []
  }
 ],
 "metadata": {
  "kernelspec": {
   "display_name": "Python 3",
   "language": "python",
   "name": "python3"
  },
  "language_info": {
   "codemirror_mode": {
    "name": "ipython",
    "version": 3
   },
   "file_extension": ".py",
   "mimetype": "text/x-python",
   "name": "python",
   "nbconvert_exporter": "python",
   "pygments_lexer": "ipython3",
   "version": "3.4.3"
  }
 },
 "nbformat": 4,
 "nbformat_minor": 2
}
