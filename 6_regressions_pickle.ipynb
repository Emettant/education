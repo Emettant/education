{
 "cells": [
  {
   "cell_type": "code",
   "execution_count": 5,
   "metadata": {
    "collapsed": false,
    "deletable": true,
    "editable": true
   },
   "outputs": [
    {
     "name": "stdout",
     "output_type": "stream",
     "text": [
      "0.972020235853\n"
     ]
    }
   ],
   "source": [
    "\n",
    "\n",
    "# arrays from numpy\n",
    "import numpy as np\n",
    "from sklearn import preprocessing, cross_validation, svm\n",
    "from sklearn.linear_model import LinearRegression\n",
    "\n",
    "import pandas as pd\n",
    "import quandl\n",
    "import math\n",
    "\n",
    "import pickle\n",
    "\n",
    "# df = quandl.get(\"WIKI/GOOGL\")\n",
    "# df = df[['Adj. Open','Adj. High','Adj. Low','Adj. Close','Adj. Volume',]]\n",
    "# df['HL_PCT'] = (df['Adj. High']-df['Adj. Close'])/df['Adj. Close']*100.0\n",
    "# df['PCT_change'] = (df['Adj. Close']-df['Adj. Open'])/df['Adj. Open']*100.0\n",
    "# df = df[['HL_PCT','PCT_change','Adj. Close', 'Adj. Volume']]\n",
    "\n",
    "# forecast_col = 'Adj. Close'\n",
    "\n",
    "# # fill NaN with -99999\n",
    "# df.fillna(-99999, inplace=True)\n",
    "\n",
    "# forecast_out = int(math.ceil(0.01*len(df)))\n",
    "# print(0.01*len(df))\n",
    "\n",
    "# df['label'] = df[forecast_col].shift(-forecast_out)\n",
    "\n",
    "# print(df.head())\n",
    "\n",
    "# X = np.array(df.drop(['label'],1))\n",
    "# X = preprocessing.scale(X)\n",
    "\n",
    "# X_lately = X[-forecast_out:]\n",
    "# X = X[:-forecast_out]\n",
    "\n",
    "# Y = np.array(df['label'])\n",
    "\n",
    "\n",
    "\n",
    "# df.dropna(inplace=True)\n",
    "# #X = X[:-forecast_out+1]\n",
    "# #df.dropna(inplace=True)\n",
    "# y = np.array(df['label'])\n",
    "\n",
    "# print(len(X),len(y))\n",
    "\n",
    "# X_train, X_test, y_train, y_test = cross_validation.train_test_split(X, y, test_size=0.2)\n",
    "\n",
    "# clf = LinearRegression(n_jobs=-1)\n",
    "# #clf = svm.SVR()\n",
    "# #clf = svm.SVR(kernel='poly')\n",
    "# clf.fit(X_train, y_train)\n",
    "\n",
    "\n",
    "# with open('linreg.pickle','wb') as f:\n",
    "#     pickle.dump(clf,f)\n",
    "    \n",
    "pickle_in = open('linreg.pickle','rb')\n",
    "clf = pickle.load(pickle_in);\n",
    "\n",
    "\n",
    "accuracy = clf.score(X_test, y_test)\n",
    "\n",
    "print(accuracy)\n",
    "\n",
    "forecast_set = clf.predict(X_lately)"
   ]
  },
  {
   "cell_type": "code",
   "execution_count": null,
   "metadata": {
    "collapsed": true,
    "deletable": true,
    "editable": true
   },
   "outputs": [],
   "source": []
  }
 ],
 "metadata": {
  "kernelspec": {
   "display_name": "Python 3",
   "language": "python",
   "name": "python3"
  },
  "language_info": {
   "codemirror_mode": {
    "name": "ipython",
    "version": 3
   },
   "file_extension": ".py",
   "mimetype": "text/x-python",
   "name": "python",
   "nbconvert_exporter": "python",
   "pygments_lexer": "ipython3",
   "version": "3.4.3"
  }
 },
 "nbformat": 4,
 "nbformat_minor": 2
}
