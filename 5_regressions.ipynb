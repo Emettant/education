{
 "cells": [
  {
   "cell_type": "code",
   "execution_count": 5,
   "metadata": {
    "collapsed": false,
    "deletable": true,
    "editable": true
   },
   "outputs": [
    {
     "name": "stdout",
     "output_type": "stream",
     "text": [
      "31.62\n",
      "              HL_PCT  PCT_change  Adj. Close  Adj. Volume       label\n",
      "Date                                                                 \n",
      "2004-08-19  3.712563    0.324968   50.322842   44659000.0  200.724618\n",
      "2004-08-20  0.710922    7.227007   54.322689   22834300.0  205.313784\n",
      "2004-08-23  3.729433   -1.227880   54.869377   18256100.0  208.879792\n",
      "2004-08-24  6.417469   -5.726357   52.597363   15247300.0  212.084685\n",
      "2004-08-25  1.886792    1.183658   53.164113    9188600.0  214.973603\n",
      "2845 2845\n",
      "0.279652678043\n"
     ]
    }
   ],
   "source": [
    "\n",
    "\n",
    "# arrays from numpy\n",
    "import numpy as np\n",
    "from sklearn import preprocessing, cross_validation, svm\n",
    "from sklearn.linear_model import LinearRegression\n",
    "\n",
    "import pandas as pd\n",
    "import quandl\n",
    "import math\n",
    "\n",
    "df = quandl.get(\"WIKI/GOOGL\")\n",
    "df = df[['Adj. Open','Adj. High','Adj. Low','Adj. Close','Adj. Volume',]]\n",
    "df['HL_PCT'] = (df['Adj. High']-df['Adj. Close'])/df['Adj. Close']*100.0\n",
    "df['PCT_change'] = (df['Adj. Close']-df['Adj. Open'])/df['Adj. Open']*100.0\n",
    "df = df[['HL_PCT','PCT_change','Adj. Close', 'Adj. Volume']]\n",
    "\n",
    "forecast_col = 'Adj. Close'\n",
    "\n",
    "# fill NaN with -99999\n",
    "df.fillna(-99999, inplace=True)\n",
    "\n",
    "forecast_out = int(math.ceil(0.1*len(df)))\n",
    "print(0.01*len(df))\n",
    "\n",
    "df['label'] = df[forecast_col].shift(-forecast_out)\n",
    "\n",
    "print(df.head())\n",
    "\n",
    "#X = np.array(df.drop(['label','Adj. Close'],1))\n",
    "X = np.array(df.drop(['label'],1))\n",
    "X = preprocessing.scale(X)\n",
    "\n",
    "X_lately = X[-forecast_out:]\n",
    "X = X[:-forecast_out]\n",
    "\n",
    "Y = np.array(df['label'])\n",
    "\n",
    "\n",
    "\n",
    "df.dropna(inplace=True)\n",
    "#X = X[:-forecast_out+1]\n",
    "#df.dropna(inplace=True)\n",
    "y = np.array(df['label'])\n",
    "\n",
    "print(len(X),len(y))\n",
    "\n",
    "X_train, X_test, y_train, y_test = cross_validation.train_test_split(X, y, test_size=0.2)\n",
    "\n",
    "clf = LinearRegression(n_jobs=-1)\n",
    "#clf = svm.SVR()\n",
    "#clf = svm.SVR(kernel='poly')\n",
    "clf.fit(X_train, y_train)\n",
    "\n",
    "accuracy = clf.score(X_test, y_test)\n",
    "\n",
    "print(accuracy)\n",
    "\n",
    "forecast_set = clf.predict(X_lately)"
   ]
  },
  {
   "cell_type": "code",
   "execution_count": 4,
   "metadata": {
    "collapsed": false,
    "deletable": true,
    "editable": true
   },
   "outputs": [
    {
     "data": {
      "image/png": "[encoded data removed]",
      "text/plain": [
       "<matplotlib.figure.Figure at 0x7f595f7daf60>"
      ]
     },
     "metadata": {},
     "output_type": "display_data"
    }
   ],
   "source": [
    "import matplotlib.pyplot as plt\n",
    "\n",
    "# Plot outputs\n",
    "col = 2\n",
    "plt.scatter(X_test[:,col], y_test,  color='black')\n",
    "plt.scatter(X_test[:,col], clf.predict(X_test), color='blue',\n",
    "         linewidth=3)\n",
    "\n",
    "plt.xticks(())\n",
    "plt.yticks(())\n",
    "\n",
    "plt.show()"
   ]
  },
  {
   "cell_type": "code",
   "execution_count": 6,
   "metadata": {
    "collapsed": false,
    "deletable": true,
    "editable": true
   },
   "outputs": [
    {
     "name": "stdout",
     "output_type": "stream",
     "text": [
      "317\n",
      "              HL_PCT  PCT_change  Adj. Close  Adj. Volume       label  \\\n",
      "Date                                                                    \n",
      "2004-08-19  3.712563    0.324968   50.322842   44659000.0  200.724618   \n",
      "2004-08-20  0.710922    7.227007   54.322689   22834300.0  205.313784   \n",
      "2004-08-23  3.729433   -1.227880   54.869377   18256100.0  208.879792   \n",
      "2004-08-24  6.417469   -5.726357   52.597363   15247300.0  212.084685   \n",
      "2004-08-25  1.886792    1.183658   53.164113    9188600.0  214.973603   \n",
      "\n",
      "            Forecast  \n",
      "Date                  \n",
      "2004-08-19       NaN  \n",
      "2004-08-20       NaN  \n",
      "2004-08-23       NaN  \n",
      "2004-08-24       NaN  \n",
      "2004-08-25       NaN  \n",
      "                     HL_PCT  PCT_change  Adj. Close  Adj. Volume  label  \\\n",
      "Date                                                                      \n",
      "2016-10-12 01:00:00     NaN         NaN         NaN          NaN    NaN   \n",
      "2016-10-13 01:00:00     NaN         NaN         NaN          NaN    NaN   \n",
      "2016-10-14 01:00:00     NaN         NaN         NaN          NaN    NaN   \n",
      "2016-10-15 01:00:00     NaN         NaN         NaN          NaN    NaN   \n",
      "2016-10-16 01:00:00     NaN         NaN         NaN          NaN    NaN   \n",
      "\n",
      "                       Forecast  \n",
      "Date                             \n",
      "2016-10-12 01:00:00  481.463034  \n",
      "2016-10-13 01:00:00  481.634115  \n",
      "2016-10-14 01:00:00  481.744154  \n",
      "2016-10-15 01:00:00  478.102787  \n",
      "2016-10-16 01:00:00  478.083821  \n"
     ]
    },
    {
     "data": {
      "image/png": "[encoded data removed]",
      "text/plain": [
       "<matplotlib.figure.Figure at 0x7fb32dc3b7b8>"
      ]
     },
     "metadata": {},
     "output_type": "display_data"
    }
   ],
   "source": [
    "import datetime\n",
    "import matplotlib.pyplot as plt\n",
    "from matplotlib import style\n",
    "\n",
    "style.use('ggplot')\n",
    "\n",
    "df['Forecast'] = np.nan\n",
    "\n",
    "last_date = df.iloc[-1].name\n",
    "last_unix = last_date.timestamp()\n",
    "one_day = 86400\n",
    "next_unix = last_unix + one_day\n",
    "\n",
    "for i in forecast_set:\n",
    "    next_date = datetime.datetime.fromtimestamp(next_unix)\n",
    "    next_unix += one_day\n",
    "    df.loc[next_date] = [np.nan for _ in range(len(df.columns)-1)] + [i]\n",
    "\n",
    "print(len(forecast_set))\n",
    "print(df.head())\n",
    "print(df.tail())\n",
    "    \n",
    "df['Adj. Close'].plot()\n",
    "df['Forecast'].plot()\n",
    "plt.legend(loc=4)\n",
    "plt.xlabel('Date')\n",
    "plt.ylabel('Price')\n",
    "plt.show()\n"
   ]
  },
  {
   "cell_type": "code",
   "execution_count": null,
   "metadata": {
    "collapsed": true,
    "deletable": true,
    "editable": true
   },
   "outputs": [],
   "source": []
  },
  {
   "cell_type": "code",
   "execution_count": null,
   "metadata": {
    "collapsed": true,
    "deletable": true,
    "editable": true
   },
   "outputs": [],
   "source": []
  }
 ],
 "metadata": {
  "kernelspec": {
   "display_name": "Python 3",
   "language": "python",
   "name": "python3"
  },
  "language_info": {
   "codemirror_mode": {
    "name": "ipython",
    "version": 3
   },
   "file_extension": ".py",
   "mimetype": "text/x-python",
   "name": "python",
   "nbconvert_exporter": "python",
   "pygments_lexer": "ipython3",
   "version": "3.4.3"
  }
 },
 "nbformat": 4,
 "nbformat_minor": 2
}
