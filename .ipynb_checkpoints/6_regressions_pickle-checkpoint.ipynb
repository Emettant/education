{
 "cells": [
  {
   "cell_type": "code",
   "execution_count": 2,
   "metadata": {
    "collapsed": false,
    "deletable": true,
    "editable": true
   },
   "outputs": [
    {
     "name": "stdout",
     "output_type": "stream",
     "text": [
      "31.59\n",
      "              HL_PCT  PCT_change  Adj. Close  Adj. Volume      label\n",
      "Date                                                                \n",
      "2004-08-19  3.712563    0.324968   50.322842   44659000.0  69.399229\n",
      "2004-08-20  0.710922    7.227007   54.322689   22834300.0  68.752232\n",
      "2004-08-23  3.729433   -1.227880   54.869377   18256100.0  69.639972\n",
      "2004-08-24  6.417469   -5.726357   52.597363   15247300.0  69.078238\n",
      "2004-08-25  1.886792    1.183658   53.164113    9188600.0  67.839414\n",
      "3127 3127\n",
      "0.971850587046\n"
     ]
    }
   ],
   "source": [
    "\n",
    "\n",
    "# arrays from numpy\n",
    "import numpy as np\n",
    "from sklearn import preprocessing, cross_validation, svm\n",
    "from sklearn.linear_model import LinearRegression\n",
    "\n",
    "import pandas as pd\n",
    "import quandl\n",
    "import math\n",
    "\n",
    "import pickle\n",
    "\n",
    "df = quandl.get(\"WIKI/GOOGL\")\n",
    "df = df[['Adj. Open','Adj. High','Adj. Low','Adj. Close','Adj. Volume',]]\n",
    "df['HL_PCT'] = (df['Adj. High']-df['Adj. Close'])/df['Adj. Close']*100.0\n",
    "df['PCT_change'] = (df['Adj. Close']-df['Adj. Open'])/df['Adj. Open']*100.0\n",
    "df = df[['HL_PCT','PCT_change','Adj. Close', 'Adj. Volume']]\n",
    "\n",
    "forecast_col = 'Adj. Close'\n",
    "\n",
    "# fill NaN with -99999\n",
    "df.fillna(-99999, inplace=True)\n",
    "\n",
    "forecast_out = int(math.ceil(0.01*len(df)))\n",
    "print(0.01*len(df))\n",
    "\n",
    "df['label'] = df[forecast_col].shift(-forecast_out)\n",
    "\n",
    "print(df.head())\n",
    "\n",
    "X = np.array(df.drop(['label'],1))\n",
    "X = preprocessing.scale(X)\n",
    "\n",
    "X_lately = X[-forecast_out:]\n",
    "X = X[:-forecast_out]\n",
    "\n",
    "Y = np.array(df['label'])\n",
    "\n",
    "\n",
    "\n",
    "df.dropna(inplace=True)\n",
    "#X = X[:-forecast_out+1]\n",
    "#df.dropna(inplace=True)\n",
    "y = np.array(df['label'])\n",
    "\n",
    "print(len(X),len(y))\n",
    "\n",
    "X_train, X_test, y_train, y_test = cross_validation.train_test_split(X, y, test_size=0.2)\n",
    "\n",
    "# clf = LinearRegression(n_jobs=-1)\n",
    "# #clf = svm.SVR()\n",
    "# #clf = svm.SVR(kernel='poly')\n",
    "# clf.fit(X_train, y_train)\n",
    "\n",
    "\n",
    "# with open('linreg.pickle','wb') as f:\n",
    "#     pickle.dump(clf,f)\n",
    "    \n",
    "pickle_in = open('linreg.pickle','rb')\n",
    "clf = pickle.load(pickle_in);\n",
    "\n",
    "\n",
    "accuracy = clf.score(X_test, y_test)\n",
    "\n",
    "print(accuracy)\n",
    "\n",
    "forecast_set = clf.predict(X_lately)"
   ]
  },
  {
   "cell_type": "code",
   "execution_count": null,
   "metadata": {
    "collapsed": true,
    "deletable": true,
    "editable": true
   },
   "outputs": [],
   "source": []
  }
 ],
 "metadata": {
  "kernelspec": {
   "display_name": "Python 3",
   "language": "python",
   "name": "python3"
  },
  "language_info": {
   "codemirror_mode": {
    "name": "ipython",
    "version": 3
   },
   "file_extension": ".py",
   "mimetype": "text/x-python",
   "name": "python",
   "nbconvert_exporter": "python",
   "pygments_lexer": "ipython3",
   "version": "3.4.3"
  }
 },
 "nbformat": 4,
 "nbformat_minor": 2
}
