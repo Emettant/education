{
 "cells": [
  {
   "cell_type": "code",
   "execution_count": 11,
   "metadata": {
    "collapsed": false
   },
   "outputs": [
    {
     "name": "stdout",
     "output_type": "stream",
     "text": [
      "0.20013848193\n"
     ]
    },
    {
     "data": {
      "image/png": "[encoded data removed]",
      "text/plain": [
       "<matplotlib.figure.Figure at 0x7f2212de92b0>"
      ]
     },
     "metadata": {},
     "output_type": "display_data"
    }
   ],
   "source": [
    "from statistics import mean\n",
    "import numpy as np\n",
    "import matplotlib.pyplot as plt\n",
    "from matplotlib import style\n",
    "import random\n",
    "\n",
    "style.use('fivethirtyeight')\n",
    "\n",
    "#xs = [1,2,3,4,5,6]\n",
    "#ys = [5,4,6,5,6,7]\n",
    "\n",
    "\n",
    "# xs = np.array(xs, dtype = np.float64)\n",
    "# ys = np.array(ys, dtype = np.float64)\n",
    "\n",
    "def create_dataset(hm, variance, step=2, correlation=False):\n",
    "    val =1\n",
    "    ys = []\n",
    "    for i in range(hm):\n",
    "        y = val + random.randrange(-variance, variance)\n",
    "        ys.append(y)\n",
    "        if correlation and correlation == 'pos':\n",
    "            val+=step\n",
    "        elif correlation and correlation == 'neg':\n",
    "            val-= step\n",
    "    xs = [i for i in range(len(ys))]\n",
    "    return np.array(xs, dtype=np.float64), np.array(ys, dtype=np.float64)\n",
    "\n",
    "def best_fit_slope_and_inter(xs,ys):\n",
    "    m= (mean(xs)*mean(ys) - mean(xs*ys)) / (mean(xs)*mean(xs) - mean(xs*xs))\n",
    "    b = mean(ys) - m*mean(xs)\n",
    "    return m, b\n",
    "\n",
    "def sqaured_error(ys_orig, ys_line):\n",
    "    return sum((ys_line - ys_orig)**2)\n",
    "\n",
    "def coef_of_det(ys_orig, ys_line):\n",
    "    ys_mean_line = [mean(ys_orig) for y in ys_orig]\n",
    "    sq_er_regr = sqaured_error(ys_orig, ys_line)\n",
    "    sq_er_y_mean = sqaured_error(ys_orig, ys_mean_line)\n",
    "    return 1 - sq_er_regr/sq_er_y_mean\n",
    "  \n",
    "    \n",
    "varianceMore=80    \n",
    "varianceNorm=40    \n",
    "varianceLess=10    \n",
    "\n",
    "xs, ys = create_dataset(40,varianceMore,2,correlation='neg')\n",
    "\n",
    "m,b = best_fit_slope_and_inter(xs,ys)\n",
    "\n",
    "regression_line = [(m*x)+b for x in xs]\n",
    "\n",
    "predict_x = 8\n",
    "predict_y = (m*predict_x)+b\n",
    "\n",
    "r_sq = coef_of_det(ys, regression_line)\n",
    "print(r_sq)\n",
    "\n",
    "plt.scatter(xs,ys)\n",
    "plt.scatter(predict_x, predict_y, s=100, color='green')\n",
    "plt.plot(xs, regression_line)\n",
    "plt.show()\n",
    "\n"
   ]
  },
  {
   "cell_type": "code",
   "execution_count": null,
   "metadata": {
    "collapsed": true
   },
   "outputs": [],
   "source": []
  }
 ],
 "metadata": {
  "kernelspec": {
   "display_name": "Python 3",
   "language": "python",
   "name": "python3"
  },
  "language_info": {
   "codemirror_mode": {
    "name": "ipython",
    "version": 3
   },
   "file_extension": ".py",
   "mimetype": "text/x-python",
   "name": "python",
   "nbconvert_exporter": "python",
   "pygments_lexer": "ipython3",
   "version": "3.4.3"
  }
 },
 "nbformat": 4,
 "nbformat_minor": 2
}
